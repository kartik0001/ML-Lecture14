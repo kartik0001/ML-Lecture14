{
 "cells": [
  {
   "cell_type": "code",
   "execution_count": 1,
   "metadata": {},
   "outputs": [],
   "source": [
    "#Q.1\n",
    "import numpy as np\n",
    "import pandas as pd\n",
    "import seaborn as sns\n",
    "import matplotlib.pyplot as plt\n",
    "%matplotlib inline"
   ]
  },
  {
   "cell_type": "code",
   "execution_count": 2,
   "metadata": {},
   "outputs": [],
   "source": [
    "url = 'https://archive.ics.uci.edu/ml/machine-learning-databases/balance-scale/balance-scale.data'\n",
    "df = pd.read_csv(url)"
   ]
  },
  {
   "cell_type": "code",
   "execution_count": 3,
   "metadata": {},
   "outputs": [
    {
     "data": {
      "text/html": [
       "<div>\n",
       "<style scoped>\n",
       "    .dataframe tbody tr th:only-of-type {\n",
       "        vertical-align: middle;\n",
       "    }\n",
       "\n",
       "    .dataframe tbody tr th {\n",
       "        vertical-align: top;\n",
       "    }\n",
       "\n",
       "    .dataframe thead th {\n",
       "        text-align: right;\n",
       "    }\n",
       "</style>\n",
       "<table border=\"1\" class=\"dataframe\">\n",
       "  <thead>\n",
       "    <tr style=\"text-align: right;\">\n",
       "      <th></th>\n",
       "      <th>B</th>\n",
       "      <th>1</th>\n",
       "      <th>1.1</th>\n",
       "      <th>1.2</th>\n",
       "      <th>1.3</th>\n",
       "    </tr>\n",
       "  </thead>\n",
       "  <tbody>\n",
       "    <tr>\n",
       "      <th>0</th>\n",
       "      <td>R</td>\n",
       "      <td>1</td>\n",
       "      <td>1</td>\n",
       "      <td>1</td>\n",
       "      <td>2</td>\n",
       "    </tr>\n",
       "    <tr>\n",
       "      <th>1</th>\n",
       "      <td>R</td>\n",
       "      <td>1</td>\n",
       "      <td>1</td>\n",
       "      <td>1</td>\n",
       "      <td>3</td>\n",
       "    </tr>\n",
       "    <tr>\n",
       "      <th>2</th>\n",
       "      <td>R</td>\n",
       "      <td>1</td>\n",
       "      <td>1</td>\n",
       "      <td>1</td>\n",
       "      <td>4</td>\n",
       "    </tr>\n",
       "    <tr>\n",
       "      <th>3</th>\n",
       "      <td>R</td>\n",
       "      <td>1</td>\n",
       "      <td>1</td>\n",
       "      <td>1</td>\n",
       "      <td>5</td>\n",
       "    </tr>\n",
       "    <tr>\n",
       "      <th>4</th>\n",
       "      <td>R</td>\n",
       "      <td>1</td>\n",
       "      <td>1</td>\n",
       "      <td>2</td>\n",
       "      <td>1</td>\n",
       "    </tr>\n",
       "  </tbody>\n",
       "</table>\n",
       "</div>"
      ],
      "text/plain": [
       "   B  1  1.1  1.2  1.3\n",
       "0  R  1    1    1    2\n",
       "1  R  1    1    1    3\n",
       "2  R  1    1    1    4\n",
       "3  R  1    1    1    5\n",
       "4  R  1    1    2    1"
      ]
     },
     "execution_count": 3,
     "metadata": {},
     "output_type": "execute_result"
    }
   ],
   "source": [
    "df.head()"
   ]
  },
  {
   "cell_type": "code",
   "execution_count": 4,
   "metadata": {},
   "outputs": [
    {
     "data": {
      "text/plain": [
       "(624, 5)"
      ]
     },
     "execution_count": 4,
     "metadata": {},
     "output_type": "execute_result"
    }
   ],
   "source": [
    "df.shape"
   ]
  },
  {
   "cell_type": "code",
   "execution_count": 5,
   "metadata": {},
   "outputs": [],
   "source": [
    "#Q.2\n",
    "x = df.loc[: , df.columns != 'B'] #features\n",
    "y = df['B'] #target"
   ]
  },
  {
   "cell_type": "code",
   "execution_count": 6,
   "metadata": {},
   "outputs": [],
   "source": [
    "#Q.3\n",
    "from sklearn.model_selection import train_test_split as tts\n",
    "from sklearn.metrics import accuracy_score"
   ]
  },
  {
   "cell_type": "code",
   "execution_count": 7,
   "metadata": {},
   "outputs": [],
   "source": [
    "train_x , test_x , train_y , test_y = tts(x , y , test_size = 0.33 , random_state = 0)"
   ]
  },
  {
   "cell_type": "code",
   "execution_count": 8,
   "metadata": {},
   "outputs": [
    {
     "name": "stdout",
     "output_type": "stream",
     "text": [
      "    Actual Predicted\n",
      "356      L         L\n",
      "299      L         L\n",
      "424      L         L\n",
      "313      R         B\n",
      "428      L         L\n",
      "52       R         B\n",
      "235      L         B\n",
      "454      L         L\n",
      "358      L         L\n",
      "213      R         R\n",
      "Accuracy score =  0.7621359223300971\n"
     ]
    }
   ],
   "source": [
    "#Q.4 a\n",
    "from sklearn.tree import DecisionTreeClassifier\n",
    "dtc = DecisionTreeClassifier(criterion = 'gini')\n",
    "dtc.fit(train_x , train_y)\n",
    "pred_y = dtc.predict(test_x)\n",
    "res = pd.DataFrame({'Actual':test_y , 'Predicted':pred_y})\n",
    "print(res.head(10))\n",
    "print(\"Accuracy score = \" , accuracy_score(test_y , pred_y))"
   ]
  },
  {
   "cell_type": "code",
   "execution_count": 9,
   "metadata": {},
   "outputs": [
    {
     "name": "stdout",
     "output_type": "stream",
     "text": [
      "    Actual Predicted\n",
      "356      L         L\n",
      "299      L         L\n",
      "424      L         L\n",
      "313      R         R\n",
      "428      L         L\n",
      "52       R         R\n",
      "235      L         B\n",
      "454      L         L\n",
      "358      L         L\n",
      "213      R         R\n",
      "Accuracy score =  0.7524271844660194\n"
     ]
    }
   ],
   "source": [
    "#Q.4 b\n",
    "from sklearn.tree import DecisionTreeClassifier\n",
    "dtc = DecisionTreeClassifier(criterion = 'entropy')\n",
    "dtc.fit(train_x , train_y)\n",
    "pred_y = dtc.predict(test_x)\n",
    "res = pd.DataFrame({'Actual':test_y , 'Predicted':pred_y})\n",
    "print(res.head(10))\n",
    "print(\"Accuracy score = \" , accuracy_score(test_y , pred_y))"
   ]
  },
  {
   "cell_type": "code",
   "execution_count": 10,
   "metadata": {},
   "outputs": [
    {
     "name": "stdout",
     "output_type": "stream",
     "text": [
      "    Actual Predicted\n",
      "356      L         L\n",
      "299      L         L\n",
      "424      L         L\n",
      "313      R         R\n",
      "428      L         L\n",
      "52       R         R\n",
      "235      L         B\n",
      "454      L         L\n",
      "358      L         L\n",
      "213      R         R\n",
      "Accuracy score =  0.7815533980582524\n"
     ]
    }
   ],
   "source": [
    "#Question 5 a\n",
    "from sklearn.ensemble import RandomForestClassifier\n",
    "rfc = RandomForestClassifier(criterion = 'gini')\n",
    "rfc.fit(train_x , train_y)\n",
    "pred_y = rfc.predict(test_x)\n",
    "res = pd.DataFrame({'Actual':test_y , 'Predicted':pred_y})\n",
    "print(res.head(10))\n",
    "print(\"Accuracy score = \" , accuracy_score(test_y , pred_y))"
   ]
  },
  {
   "cell_type": "code",
   "execution_count": 11,
   "metadata": {},
   "outputs": [
    {
     "name": "stdout",
     "output_type": "stream",
     "text": [
      "    Actual Predicted\n",
      "356      L         L\n",
      "299      L         L\n",
      "424      L         L\n",
      "313      R         R\n",
      "428      L         L\n",
      "52       R         R\n",
      "235      L         R\n",
      "454      L         L\n",
      "358      L         L\n",
      "213      R         R\n",
      "Accuracy score =  0.7621359223300971\n"
     ]
    }
   ],
   "source": [
    "#Q.5 b\n",
    "from sklearn.ensemble import RandomForestClassifier\n",
    "rfc = RandomForestClassifier(criterion = 'entropy')\n",
    "rfc.fit(train_x , train_y)\n",
    "pred_y = rfc.predict(test_x)\n",
    "res = pd.DataFrame({'Actual':test_y , 'Predicted':pred_y})\n",
    "print(res.head(10))\n",
    "print(\"Accuracy score = \" , accuracy_score(test_y , pred_y))"
   ]
  }
 ],
 "metadata": {
  "kernelspec": {
   "display_name": "Python 3",
   "language": "python",
   "name": "python3"
  },
  "language_info": {
   "codemirror_mode": {
    "name": "ipython",
    "version": 3
   },
   "file_extension": ".py",
   "mimetype": "text/x-python",
   "name": "python",
   "nbconvert_exporter": "python",
   "pygments_lexer": "ipython3",
   "version": "3.6.5"
  }
 },
 "nbformat": 4,
 "nbformat_minor": 2
}
